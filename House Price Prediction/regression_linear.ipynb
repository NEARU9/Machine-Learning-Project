{
 "cells": [
  {
   "cell_type": "code",
   "execution_count": 98,
   "metadata": {},
   "outputs": [],
   "source": [
    "import pandas as pd\n",
    "import numpy as np \n",
    "from sklearn.model_selection import train_test_split\n",
    "from sklearn.linear_model import LinearRegression\n",
    "from sklearn.metrics import mean_squared_error, r2_score\n",
    "import matplotlib.pyplot as plt"
   ]
  },
  {
   "cell_type": "code",
   "execution_count": 99,
   "metadata": {},
   "outputs": [
    {
     "data": {
      "text/html": [
       "<div>\n",
       "<style scoped>\n",
       "    .dataframe tbody tr th:only-of-type {\n",
       "        vertical-align: middle;\n",
       "    }\n",
       "\n",
       "    .dataframe tbody tr th {\n",
       "        vertical-align: top;\n",
       "    }\n",
       "\n",
       "    .dataframe thead th {\n",
       "        text-align: right;\n",
       "    }\n",
       "</style>\n",
       "<table border=\"1\" class=\"dataframe\">\n",
       "  <thead>\n",
       "    <tr style=\"text-align: right;\">\n",
       "      <th></th>\n",
       "      <th>Index</th>\n",
       "      <th>Title</th>\n",
       "      <th>Description</th>\n",
       "      <th>Amount(in rupees)</th>\n",
       "      <th>Price (in rupees)</th>\n",
       "      <th>location</th>\n",
       "      <th>Carpet Area</th>\n",
       "      <th>Status</th>\n",
       "      <th>Floor</th>\n",
       "      <th>Transaction</th>\n",
       "      <th>...</th>\n",
       "      <th>facing</th>\n",
       "      <th>overlooking</th>\n",
       "      <th>Society</th>\n",
       "      <th>Bathroom</th>\n",
       "      <th>Balcony</th>\n",
       "      <th>Car Parking</th>\n",
       "      <th>Ownership</th>\n",
       "      <th>Super Area</th>\n",
       "      <th>Dimensions</th>\n",
       "      <th>Plot Area</th>\n",
       "    </tr>\n",
       "  </thead>\n",
       "  <tbody>\n",
       "    <tr>\n",
       "      <th>0</th>\n",
       "      <td>0</td>\n",
       "      <td>1 BHK Ready to Occupy Flat for sale in Srushti...</td>\n",
       "      <td>Bhiwandi, Thane has an attractive 1 BHK Flat f...</td>\n",
       "      <td>42 Lac</td>\n",
       "      <td>6000.0</td>\n",
       "      <td>thane</td>\n",
       "      <td>500 sqft</td>\n",
       "      <td>Ready to Move</td>\n",
       "      <td>10 out of 11</td>\n",
       "      <td>Resale</td>\n",
       "      <td>...</td>\n",
       "      <td>NaN</td>\n",
       "      <td>NaN</td>\n",
       "      <td>Srushti Siddhi Mangal Murti Complex</td>\n",
       "      <td>1</td>\n",
       "      <td>2</td>\n",
       "      <td>NaN</td>\n",
       "      <td>NaN</td>\n",
       "      <td>NaN</td>\n",
       "      <td>NaN</td>\n",
       "      <td>NaN</td>\n",
       "    </tr>\n",
       "    <tr>\n",
       "      <th>1</th>\n",
       "      <td>1</td>\n",
       "      <td>2 BHK Ready to Occupy Flat for sale in Dosti V...</td>\n",
       "      <td>One can find this stunning 2 BHK flat for sale...</td>\n",
       "      <td>98 Lac</td>\n",
       "      <td>13799.0</td>\n",
       "      <td>thane</td>\n",
       "      <td>473 sqft</td>\n",
       "      <td>Ready to Move</td>\n",
       "      <td>3 out of 22</td>\n",
       "      <td>Resale</td>\n",
       "      <td>...</td>\n",
       "      <td>East</td>\n",
       "      <td>Garden/Park</td>\n",
       "      <td>Dosti Vihar</td>\n",
       "      <td>2</td>\n",
       "      <td>NaN</td>\n",
       "      <td>1 Open</td>\n",
       "      <td>Freehold</td>\n",
       "      <td>NaN</td>\n",
       "      <td>NaN</td>\n",
       "      <td>NaN</td>\n",
       "    </tr>\n",
       "    <tr>\n",
       "      <th>2</th>\n",
       "      <td>2</td>\n",
       "      <td>2 BHK Ready to Occupy Flat for sale in Sunrise...</td>\n",
       "      <td>Up for immediate sale is a 2 BHK apartment in ...</td>\n",
       "      <td>1.40 Cr</td>\n",
       "      <td>17500.0</td>\n",
       "      <td>thane</td>\n",
       "      <td>779 sqft</td>\n",
       "      <td>Ready to Move</td>\n",
       "      <td>10 out of 29</td>\n",
       "      <td>Resale</td>\n",
       "      <td>...</td>\n",
       "      <td>East</td>\n",
       "      <td>Garden/Park</td>\n",
       "      <td>Sunrise by Kalpataru</td>\n",
       "      <td>2</td>\n",
       "      <td>NaN</td>\n",
       "      <td>1 Covered</td>\n",
       "      <td>Freehold</td>\n",
       "      <td>NaN</td>\n",
       "      <td>NaN</td>\n",
       "      <td>NaN</td>\n",
       "    </tr>\n",
       "    <tr>\n",
       "      <th>3</th>\n",
       "      <td>3</td>\n",
       "      <td>1 BHK Ready to Occupy Flat for sale Kasheli</td>\n",
       "      <td>This beautiful 1 BHK Flat is available for sal...</td>\n",
       "      <td>25 Lac</td>\n",
       "      <td>NaN</td>\n",
       "      <td>thane</td>\n",
       "      <td>530 sqft</td>\n",
       "      <td>Ready to Move</td>\n",
       "      <td>1 out of 3</td>\n",
       "      <td>Resale</td>\n",
       "      <td>...</td>\n",
       "      <td>NaN</td>\n",
       "      <td>NaN</td>\n",
       "      <td>NaN</td>\n",
       "      <td>1</td>\n",
       "      <td>1</td>\n",
       "      <td>NaN</td>\n",
       "      <td>NaN</td>\n",
       "      <td>NaN</td>\n",
       "      <td>NaN</td>\n",
       "      <td>NaN</td>\n",
       "    </tr>\n",
       "    <tr>\n",
       "      <th>4</th>\n",
       "      <td>4</td>\n",
       "      <td>2 BHK Ready to Occupy Flat for sale in TenX Ha...</td>\n",
       "      <td>This lovely 2 BHK Flat in Pokhran Road, Thane ...</td>\n",
       "      <td>1.60 Cr</td>\n",
       "      <td>18824.0</td>\n",
       "      <td>thane</td>\n",
       "      <td>635 sqft</td>\n",
       "      <td>Ready to Move</td>\n",
       "      <td>20 out of 42</td>\n",
       "      <td>Resale</td>\n",
       "      <td>...</td>\n",
       "      <td>West</td>\n",
       "      <td>Garden/Park, Main Road</td>\n",
       "      <td>TenX Habitat Raymond Realty</td>\n",
       "      <td>2</td>\n",
       "      <td>NaN</td>\n",
       "      <td>1 Covered</td>\n",
       "      <td>Co-operative Society</td>\n",
       "      <td>NaN</td>\n",
       "      <td>NaN</td>\n",
       "      <td>NaN</td>\n",
       "    </tr>\n",
       "  </tbody>\n",
       "</table>\n",
       "<p>5 rows × 21 columns</p>\n",
       "</div>"
      ],
      "text/plain": [
       "   Index                                              Title  \\\n",
       "0      0  1 BHK Ready to Occupy Flat for sale in Srushti...   \n",
       "1      1  2 BHK Ready to Occupy Flat for sale in Dosti V...   \n",
       "2      2  2 BHK Ready to Occupy Flat for sale in Sunrise...   \n",
       "3      3        1 BHK Ready to Occupy Flat for sale Kasheli   \n",
       "4      4  2 BHK Ready to Occupy Flat for sale in TenX Ha...   \n",
       "\n",
       "                                         Description Amount(in rupees)  \\\n",
       "0  Bhiwandi, Thane has an attractive 1 BHK Flat f...           42 Lac    \n",
       "1  One can find this stunning 2 BHK flat for sale...           98 Lac    \n",
       "2  Up for immediate sale is a 2 BHK apartment in ...          1.40 Cr    \n",
       "3  This beautiful 1 BHK Flat is available for sal...           25 Lac    \n",
       "4  This lovely 2 BHK Flat in Pokhran Road, Thane ...          1.60 Cr    \n",
       "\n",
       "   Price (in rupees) location Carpet Area         Status         Floor  \\\n",
       "0             6000.0    thane    500 sqft  Ready to Move  10 out of 11   \n",
       "1            13799.0    thane    473 sqft  Ready to Move   3 out of 22   \n",
       "2            17500.0    thane    779 sqft  Ready to Move  10 out of 29   \n",
       "3                NaN    thane    530 sqft  Ready to Move    1 out of 3   \n",
       "4            18824.0    thane    635 sqft  Ready to Move  20 out of 42   \n",
       "\n",
       "  Transaction  ... facing             overlooking  \\\n",
       "0      Resale  ...    NaN                     NaN   \n",
       "1      Resale  ...   East             Garden/Park   \n",
       "2      Resale  ...   East             Garden/Park   \n",
       "3      Resale  ...    NaN                     NaN   \n",
       "4      Resale  ...   West  Garden/Park, Main Road   \n",
       "\n",
       "                               Society Bathroom Balcony Car Parking  \\\n",
       "0  Srushti Siddhi Mangal Murti Complex        1       2         NaN   \n",
       "1                          Dosti Vihar        2     NaN      1 Open   \n",
       "2                 Sunrise by Kalpataru        2     NaN   1 Covered   \n",
       "3                                  NaN        1       1         NaN   \n",
       "4          TenX Habitat Raymond Realty        2     NaN   1 Covered   \n",
       "\n",
       "              Ownership Super Area Dimensions  Plot Area  \n",
       "0                   NaN        NaN        NaN        NaN  \n",
       "1              Freehold        NaN        NaN        NaN  \n",
       "2              Freehold        NaN        NaN        NaN  \n",
       "3                   NaN        NaN        NaN        NaN  \n",
       "4  Co-operative Society        NaN        NaN        NaN  \n",
       "\n",
       "[5 rows x 21 columns]"
      ]
     },
     "execution_count": 99,
     "metadata": {},
     "output_type": "execute_result"
    }
   ],
   "source": [
    "df = pd.read_csv(\"E:/house price prediction/dataset/house_prices.csv\")\n",
    "\n",
    "df.head(5)"
   ]
  },
  {
   "cell_type": "code",
   "execution_count": 100,
   "metadata": {},
   "outputs": [],
   "source": [
    "# # Mengatur ukuran plot global\n",
    "# plt.figure(figsize=(14, 10))\n",
    "\n",
    "# # Plot 1: Histogram dari Carpet Area\n",
    "# plt.subplot(231)\n",
    "# plt.hist(df['Carpet Area'], bins=15, edgecolor='black')\n",
    "# plt.xlabel('Carpet Area (sqft)')\n",
    "# plt.ylabel('Frequency')\n",
    "# plt.title('Distribution of Carpet Area')\n",
    "\n",
    "# plt.show()"
   ]
  },
  {
   "cell_type": "code",
   "execution_count": 101,
   "metadata": {},
   "outputs": [
    {
     "data": {
      "text/plain": [
       "(Index                     0\n",
       " Title                     0\n",
       " Description            3023\n",
       " Amount(in rupees)         0\n",
       " Price (in rupees)     17665\n",
       " location                  0\n",
       " Carpet Area           80673\n",
       " Status                  615\n",
       " Floor                  7077\n",
       " Transaction              83\n",
       " Furnishing             2897\n",
       " facing                70233\n",
       " overlooking           81436\n",
       " Society              109678\n",
       " Bathroom                828\n",
       " Balcony               48935\n",
       " Car Parking          103357\n",
       " Ownership             65517\n",
       " Super Area           107685\n",
       " Dimensions           187531\n",
       " Plot Area            187531\n",
       " dtype: int64,\n",
       "                Index  Price (in rupees)  Dimensions  Plot Area\n",
       " count  187531.000000       1.698660e+05         0.0        0.0\n",
       " mean    93765.000000       7.583772e+03         NaN        NaN\n",
       " std     54135.681003       2.724171e+04         NaN        NaN\n",
       " min         0.000000       0.000000e+00         NaN        NaN\n",
       " 25%     46882.500000       4.297000e+03         NaN        NaN\n",
       " 50%     93765.000000       6.034000e+03         NaN        NaN\n",
       " 75%    140647.500000       9.450000e+03         NaN        NaN\n",
       " max    187530.000000       6.700000e+06         NaN        NaN,\n",
       " Empty DataFrame\n",
       " Columns: [Index, Title, Description, Amount(in rupees), Price (in rupees), location, Carpet Area, Status, Floor, Transaction, Furnishing, facing, overlooking, Society, Bathroom, Balcony, Car Parking, Ownership, Super Area, Dimensions, Plot Area]\n",
       " Index: []\n",
       " \n",
       " [0 rows x 21 columns],\n",
       " Index                  int64\n",
       " Title                 object\n",
       " Description           object\n",
       " Amount(in rupees)     object\n",
       " Price (in rupees)    float64\n",
       " location              object\n",
       " Carpet Area           object\n",
       " Status                object\n",
       " Floor                 object\n",
       " Transaction           object\n",
       " Furnishing            object\n",
       " facing                object\n",
       " overlooking           object\n",
       " Society               object\n",
       " Bathroom              object\n",
       " Balcony               object\n",
       " Car Parking           object\n",
       " Ownership             object\n",
       " Super Area            object\n",
       " Dimensions           float64\n",
       " Plot Area            float64\n",
       " dtype: object)"
      ]
     },
     "execution_count": 101,
     "metadata": {},
     "output_type": "execute_result"
    }
   ],
   "source": [
    "# cleaning data\n",
    "\n",
    "missing_values = df.isnull().sum()\n",
    "\n",
    "stats_descriptive = df.describe()\n",
    "\n",
    "duplicated_rows = df[df.duplicated()]\n",
    "\n",
    "data_types = df.dtypes\n",
    "\n",
    "missing_values, stats_descriptive, duplicated_rows, data_types"
   ]
  },
  {
   "cell_type": "code",
   "execution_count": 102,
   "metadata": {},
   "outputs": [],
   "source": [
    "# Konversi nilai yang menggunakan 'sqm' ke 'sqft'\n",
    "def convert_to_sqft(value):\n",
    "    if pd.isnull(value):\n",
    "        return np.nan\n",
    "    if 'sqft' in value:\n",
    "        return float(value.replace(' sqft', ''))\n",
    "    elif 'sqm' in value:\n",
    "        sqm_value = float(value.replace(' sqm', ''))\n",
    "        return sqm_value * 10.7639  # Konversi dari sqm ke sqft\n",
    "    else:\n",
    "        return np.nan  # Menangani kasus lain atau nilai yang tidak sesuai\n",
    "\n",
    "# Terapkan fungsi ke kolom 'Carpet Area'\n",
    "df['Carpet Area'] = df['Carpet Area'].apply(convert_to_sqft)\n",
    "\n",
    "# Menghapus baris dengan nilai yang tidak valid atau tidak dapat dikonversi\n",
    "df = df.dropna(subset=['Carpet Area', 'Price (in rupees)'])\n",
    "\n",
    "# Mengonversi kolom harga ke float\n",
    "df['Price (in rupees)'] = df['Price (in rupees)'].astype(float)"
   ]
  },
  {
   "cell_type": "code",
   "execution_count": 103,
   "metadata": {},
   "outputs": [],
   "source": [
    "# Memisahkan variabel independen (X) dan variabel dependen (y)\n",
    "X = df[['Carpet Area']]\n",
    "y = df['Price (in rupees)']"
   ]
  },
  {
   "cell_type": "code",
   "execution_count": 104,
   "metadata": {},
   "outputs": [],
   "source": [
    "# Membagi data menjadi data pelatihan dan data pengujian\n",
    "X_train, X_test, y_train, y_test = train_test_split(X, y, test_size=0.2, random_state=42)"
   ]
  },
  {
   "cell_type": "code",
   "execution_count": 105,
   "metadata": {},
   "outputs": [
    {
     "data": {
      "text/html": [
       "<style>#sk-container-id-6 {color: black;background-color: white;}#sk-container-id-6 pre{padding: 0;}#sk-container-id-6 div.sk-toggleable {background-color: white;}#sk-container-id-6 label.sk-toggleable__label {cursor: pointer;display: block;width: 100%;margin-bottom: 0;padding: 0.3em;box-sizing: border-box;text-align: center;}#sk-container-id-6 label.sk-toggleable__label-arrow:before {content: \"▸\";float: left;margin-right: 0.25em;color: #696969;}#sk-container-id-6 label.sk-toggleable__label-arrow:hover:before {color: black;}#sk-container-id-6 div.sk-estimator:hover label.sk-toggleable__label-arrow:before {color: black;}#sk-container-id-6 div.sk-toggleable__content {max-height: 0;max-width: 0;overflow: hidden;text-align: left;background-color: #f0f8ff;}#sk-container-id-6 div.sk-toggleable__content pre {margin: 0.2em;color: black;border-radius: 0.25em;background-color: #f0f8ff;}#sk-container-id-6 input.sk-toggleable__control:checked~div.sk-toggleable__content {max-height: 200px;max-width: 100%;overflow: auto;}#sk-container-id-6 input.sk-toggleable__control:checked~label.sk-toggleable__label-arrow:before {content: \"▾\";}#sk-container-id-6 div.sk-estimator input.sk-toggleable__control:checked~label.sk-toggleable__label {background-color: #d4ebff;}#sk-container-id-6 div.sk-label input.sk-toggleable__control:checked~label.sk-toggleable__label {background-color: #d4ebff;}#sk-container-id-6 input.sk-hidden--visually {border: 0;clip: rect(1px 1px 1px 1px);clip: rect(1px, 1px, 1px, 1px);height: 1px;margin: -1px;overflow: hidden;padding: 0;position: absolute;width: 1px;}#sk-container-id-6 div.sk-estimator {font-family: monospace;background-color: #f0f8ff;border: 1px dotted black;border-radius: 0.25em;box-sizing: border-box;margin-bottom: 0.5em;}#sk-container-id-6 div.sk-estimator:hover {background-color: #d4ebff;}#sk-container-id-6 div.sk-parallel-item::after {content: \"\";width: 100%;border-bottom: 1px solid gray;flex-grow: 1;}#sk-container-id-6 div.sk-label:hover label.sk-toggleable__label {background-color: #d4ebff;}#sk-container-id-6 div.sk-serial::before {content: \"\";position: absolute;border-left: 1px solid gray;box-sizing: border-box;top: 0;bottom: 0;left: 50%;z-index: 0;}#sk-container-id-6 div.sk-serial {display: flex;flex-direction: column;align-items: center;background-color: white;padding-right: 0.2em;padding-left: 0.2em;position: relative;}#sk-container-id-6 div.sk-item {position: relative;z-index: 1;}#sk-container-id-6 div.sk-parallel {display: flex;align-items: stretch;justify-content: center;background-color: white;position: relative;}#sk-container-id-6 div.sk-item::before, #sk-container-id-6 div.sk-parallel-item::before {content: \"\";position: absolute;border-left: 1px solid gray;box-sizing: border-box;top: 0;bottom: 0;left: 50%;z-index: -1;}#sk-container-id-6 div.sk-parallel-item {display: flex;flex-direction: column;z-index: 1;position: relative;background-color: white;}#sk-container-id-6 div.sk-parallel-item:first-child::after {align-self: flex-end;width: 50%;}#sk-container-id-6 div.sk-parallel-item:last-child::after {align-self: flex-start;width: 50%;}#sk-container-id-6 div.sk-parallel-item:only-child::after {width: 0;}#sk-container-id-6 div.sk-dashed-wrapped {border: 1px dashed gray;margin: 0 0.4em 0.5em 0.4em;box-sizing: border-box;padding-bottom: 0.4em;background-color: white;}#sk-container-id-6 div.sk-label label {font-family: monospace;font-weight: bold;display: inline-block;line-height: 1.2em;}#sk-container-id-6 div.sk-label-container {text-align: center;}#sk-container-id-6 div.sk-container {/* jupyter's `normalize.less` sets `[hidden] { display: none; }` but bootstrap.min.css set `[hidden] { display: none !important; }` so we also need the `!important` here to be able to override the default hidden behavior on the sphinx rendered scikit-learn.org. See: https://github.com/scikit-learn/scikit-learn/issues/21755 */display: inline-block !important;position: relative;}#sk-container-id-6 div.sk-text-repr-fallback {display: none;}</style><div id=\"sk-container-id-6\" class=\"sk-top-container\"><div class=\"sk-text-repr-fallback\"><pre>LinearRegression()</pre><b>In a Jupyter environment, please rerun this cell to show the HTML representation or trust the notebook. <br />On GitHub, the HTML representation is unable to render, please try loading this page with nbviewer.org.</b></div><div class=\"sk-container\" hidden><div class=\"sk-item\"><div class=\"sk-estimator sk-toggleable\"><input class=\"sk-toggleable__control sk-hidden--visually\" id=\"sk-estimator-id-6\" type=\"checkbox\" checked><label for=\"sk-estimator-id-6\" class=\"sk-toggleable__label sk-toggleable__label-arrow\">LinearRegression</label><div class=\"sk-toggleable__content\"><pre>LinearRegression()</pre></div></div></div></div></div>"
      ],
      "text/plain": [
       "LinearRegression()"
      ]
     },
     "execution_count": 105,
     "metadata": {},
     "output_type": "execute_result"
    }
   ],
   "source": [
    "# Membuat model regresi linear\n",
    "model = LinearRegression()\n",
    "\n",
    "# Melatih model dengan data pelatihan\n",
    "model.fit(X_train, y_train)"
   ]
  },
  {
   "cell_type": "code",
   "execution_count": 106,
   "metadata": {},
   "outputs": [
    {
     "name": "stdout",
     "output_type": "stream",
     "text": [
      "Koefisien: [0.22750979]\n",
      "Intersep: 7909.861258253855\n"
     ]
    }
   ],
   "source": [
    "# Memprediksi harga dengan data pengujian\n",
    "y_pred = model.predict(X_test)\n",
    "\n",
    "# Menampilkan koefisien regresi dan intersep\n",
    "print(\"Koefisien:\", model.coef_)\n",
    "print(\"Intersep:\", model.intercept_)\n"
   ]
  },
  {
   "cell_type": "code",
   "execution_count": 107,
   "metadata": {},
   "outputs": [
    {
     "name": "stdout",
     "output_type": "stream",
     "text": [
      "Mean Squared Error: 699094893.0183258\n",
      "R^2 Score: -0.002054014640425317\n"
     ]
    }
   ],
   "source": [
    "# Menghitung dan menampilkan Mean Squared Error (MSE) dan R^2 Score\n",
    "mse = mean_squared_error(y_test, y_pred)\n",
    "r2 = r2_score(y_test, y_pred)\n",
    "print(\"Mean Squared Error:\", mse)\n",
    "print(\"R^2 Score:\", r2)"
   ]
  },
  {
   "cell_type": "code",
   "execution_count": 108,
   "metadata": {},
   "outputs": [
    {
     "name": "stdout",
     "output_type": "stream",
     "text": [
      "Harga prediksi (rumah 1) dalam Rupee: 8231.79, dalam Rupiah: 1609726.07, dalam USD: 98.78\n",
      "Harga prediksi (rumah 2) dalam Rupee: 8103.24, dalam Rupiah: 1584589.48, dalam USD: 97.24\n",
      "Harga prediksi (rumah 3) dalam Rupee: 8319.38, dalam Rupiah: 1626854.54, dalam USD: 99.83\n",
      "Harga prediksi (rumah 4) dalam Rupee: 8000.87, dalam Rupiah: 1564569.18, dalam USD: 96.01\n",
      "Harga prediksi (rumah 5) dalam Rupee: 8037.27, dalam Rupiah: 1571687.51, dalam USD: 96.45\n",
      "Harga prediksi (rumah 6) dalam Rupee: 8225.19, dalam Rupiah: 1608435.87, dalam USD: 98.70\n",
      "Harga prediksi (rumah 7) dalam Rupee: 8592.39, dalam Rupiah: 1680241.99, dalam USD: 103.11\n",
      "Harga prediksi (rumah 8) dalam Rupee: 8952.54, dalam Rupiah: 1750668.93, dalam USD: 107.43\n",
      "Harga prediksi (rumah 9) dalam Rupee: 8205.62, dalam Rupiah: 1604609.77, dalam USD: 98.47\n",
      "Harga prediksi (rumah 10) dalam Rupee: 8046.37, dalam Rupiah: 1573467.09, dalam USD: 96.56\n"
     ]
    }
   ],
   "source": [
    "# Mengonversi harga dari Rupee India ke Rupiah Indonesia\n",
    "kurs_rupee_to_rupiah = 195.55\n",
    "y_pred_rupiah = y_pred * kurs_rupee_to_rupiah\n",
    "\n",
    "# Mengonversi harga dari Rupee India ke Dolar Amerika Serikat (USD)\n",
    "kurs_rupee_to_usd = 0.012\n",
    "y_pred_usd = y_pred * kurs_rupee_to_usd\n",
    "\n",
    "# Batasi untuk menampilkan hanya 10 data\n",
    "for i, (pred, rupiah, usd) in enumerate(zip(y_pred[:10], y_pred_rupiah[:10], y_pred_usd[:10]), start=1):\n",
    "    print(f\"Harga prediksi (rumah {i}) dalam Rupee: {pred:.2f}, dalam Rupiah: {rupiah:.2f}, dalam USD: {usd:.2f}\")\n"
   ]
  },
  {
   "cell_type": "code",
   "execution_count": 109,
   "metadata": {},
   "outputs": [
    {
     "data": {
      "image/png": "[encoded data removed]",
      "text/plain": [
       "<Figure size 1200x600 with 1 Axes>"
      ]
     },
     "metadata": {},
     "output_type": "display_data"
    }
   ],
   "source": [
    "# Visualisasi prediksi dan data pengujian dalam grafik\n",
    "plt.figure(figsize=(12, 6))\n",
    "\n",
    "# Plot data pengujian\n",
    "plt.scatter(X_test, y_test, color='blue', label='Data Pengujian')\n",
    "\n",
    "# Plot prediksi dalam Rupee\n",
    "plt.plot(X_test, y_pred, color='red', linewidth=2, label='Prediksi (Rupee)')\n",
    "\n",
    "# Plot prediksi dalam Rupiah\n",
    "plt.plot(X_test, y_pred_rupiah, color='green', linewidth=2, label='Prediksi (Rupiah)')\n",
    "\n",
    "# Plot prediksi dalam USD\n",
    "plt.plot(X_test, y_pred_usd, color='orange', linewidth=2, label='Prediksi (USD)')\n",
    "\n",
    "plt.title('Prediksi Harga Rumah')\n",
    "plt.xlabel('Luas Karpet Area (sqft)')\n",
    "plt.ylabel('Harga (Rupee)')\n",
    "plt.legend()\n",
    "plt.grid(True)\n",
    "plt.show()"
   ]
  },
  {
   "cell_type": "code",
   "execution_count": 110,
   "metadata": {},
   "outputs": [
    {
     "name": "stdout",
     "output_type": "stream",
     "text": [
      "Harga prediksi untuk rumah dengan ukuran 100 m2 dalam Rupee: 8154.750519698978 rupees\n",
      "Harga prediksi untuk rumah dengan ukuran 100 m2 dalam Rupiah: 1594661.4641271352 rupiah\n",
      "Harga prediksi untuk rumah dengan ukuran 100 m2 dalam USD: 97.85700623638773 USD\n"
     ]
    },
    {
     "name": "stderr",
     "output_type": "stream",
     "text": [
      "c:\\Users\\Asus p1412Ce\\AppData\\Local\\Programs\\Python\\Python311\\Lib\\site-packages\\sklearn\\base.py:439: UserWarning: X does not have valid feature names, but LinearRegression was fitted with feature names\n",
      "  warnings.warn(\n"
     ]
    }
   ],
   "source": [
    "# Memprediksi harga rumah dengan ukuran tertentu, misalnya 100 m2\n",
    "ukuran_baru = np.array([[100 * 10.7639]])  # Mengonversi dari m2 ke sqft\n",
    "harga_prediksi = model.predict(ukuran_baru)\n",
    "harga_prediksi_rupiah = harga_prediksi[0] * kurs_rupee_to_rupiah\n",
    "harga_prediksi_usd = harga_prediksi[0] * kurs_rupee_to_usd\n",
    "print(\"Harga prediksi untuk rumah dengan ukuran 100 m2 dalam Rupee:\", harga_prediksi[0], \"rupees\")\n",
    "print(\"Harga prediksi untuk rumah dengan ukuran 100 m2 dalam Rupiah:\", harga_prediksi_rupiah, \"rupiah\")\n",
    "print(\"Harga prediksi untuk rumah dengan ukuran 100 m2 dalam USD:\", harga_prediksi_usd, \"USD\")"
   ]
  },
  {
   "cell_type": "markdown",
   "metadata": {},
   "source": [
    "# Note \n",
    "I created a sample dataset, which consists of 10% of the original data, due to the limitation in GitHub upload size.\n",
    "\n",
    "### [Link to the original data](https://www.kaggle.com/datasets/juhibhojani/house-price/data)\n",
    "\n"
   ]
  },
  {
   "cell_type": "code",
   "execution_count": 111,
   "metadata": {},
   "outputs": [],
   "source": [
    "# Membuat sampel dari dataset, misalnya 10% dari total data\n",
    "sample_df = df.sample(frac=0.1, random_state=42)  # Menggunakan random_state untuk reproducibility\n",
    "\n",
    "# Ubah path sesuai dengan lokasi dan nama file CSV yang ingin Anda simpan\n",
    "output_file = \"E:/house price prediction/dataset/sample_house_prices.csv\"\n",
    "\n",
    "# Menyimpan sampel ke file CSV\n",
    "sample_df.to_csv(output_file, index=False)  # index=False untuk menghindari penambahan indeks saat menyimpan"
   ]
  }
 ],
 "metadata": {
  "kernelspec": {
   "display_name": "Python 3",
   "language": "python",
   "name": "python3"
  },
  "language_info": {
   "codemirror_mode": {
    "name": "ipython",
    "version": 3
   },
   "file_extension": ".py",
   "mimetype": "text/x-python",
   "name": "python",
   "nbconvert_exporter": "python",
   "pygments_lexer": "ipython3",
   "version": "3.11.1"
  }
 },
 "nbformat": 4,
 "nbformat_minor": 2
}
